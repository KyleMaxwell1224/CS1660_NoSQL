{
 "cells": [
  {
   "cell_type": "code",
   "execution_count": 28,
   "id": "a3276fd0-0c55-4d8a-b9b3-96e7e704afd7",
   "metadata": {},
   "outputs": [],
   "source": [
    "import boto3"
   ]
  },
  {
   "cell_type": "code",
   "execution_count": 29,
   "id": "72e782ff-dc2d-42d2-865a-1d2c2ae41117",
   "metadata": {},
   "outputs": [],
   "source": [
    "s3 = boto3.resource('s3',\n",
    " aws_access_key_id='hidden',\n",
    " aws_secret_access_key='hidden'\n",
    ")"
   ]
  },
  {
   "cell_type": "code",
   "execution_count": 30,
   "id": "0b3d174e-22e6-44fc-991f-b6f955aee18b",
   "metadata": {},
   "outputs": [
    {
     "name": "stdout",
     "output_type": "stream",
     "text": [
      "An error occurred (BucketAlreadyOwnedByYou) when calling the CreateBucket operation: Your previous request to create the named bucket succeeded and you already own it.\n"
     ]
    }
   ],
   "source": [
    "try:\n",
    " s3.create_bucket(Bucket='datacont-kem254', CreateBucketConfiguration={\n",
    " 'LocationConstraint': 'us-west-2'})\n",
    "except Exception as e:\n",
    " print (e)"
   ]
  },
  {
   "cell_type": "code",
   "execution_count": 31,
   "id": "4983be2f-f9cc-4dba-99a2-bfd5fc126b7f",
   "metadata": {},
   "outputs": [
    {
     "data": {
      "text/plain": [
       "{'ResponseMetadata': {'RequestId': 'E3M3SMD50P9ES9ED',\n",
       "  'HostId': 'MjVrkiJMG879XQO5hpMF/wxNVqO5rcnF45tj8kb4J/9pRyTMzKhaGJve4QQvxDOmSBvs3/+RTEs=',\n",
       "  'HTTPStatusCode': 200,\n",
       "  'HTTPHeaders': {'x-amz-id-2': 'MjVrkiJMG879XQO5hpMF/wxNVqO5rcnF45tj8kb4J/9pRyTMzKhaGJve4QQvxDOmSBvs3/+RTEs=',\n",
       "   'x-amz-request-id': 'E3M3SMD50P9ES9ED',\n",
       "   'date': 'Sun, 24 Oct 2021 21:31:13 GMT',\n",
       "   'server': 'AmazonS3',\n",
       "   'content-length': '0'},\n",
       "  'RetryAttempts': 0}}"
      ]
     },
     "execution_count": 31,
     "metadata": {},
     "output_type": "execute_result"
    }
   ],
   "source": [
    "bucket = s3.Bucket(\"datacont-kem254\")\n",
    "bucket.Acl().put(ACL='public-read')"
   ]
  },
  {
   "cell_type": "code",
   "execution_count": 32,
   "id": "00373beb-70b9-4a8a-bc71-9dcce426c99e",
   "metadata": {},
   "outputs": [
    {
     "data": {
      "text/plain": [
       "{'ResponseMetadata': {'RequestId': 'E3M2GSFBBCZ5FR1P',\n",
       "  'HostId': 'GShW+UgHAM6WKvyqHvJSYzt4Hx1Qrk9AczwAgCR0BJw4uTO+UZBVB9gUopgkJQD5AIoKkgThOd8=',\n",
       "  'HTTPStatusCode': 200,\n",
       "  'HTTPHeaders': {'x-amz-id-2': 'GShW+UgHAM6WKvyqHvJSYzt4Hx1Qrk9AczwAgCR0BJw4uTO+UZBVB9gUopgkJQD5AIoKkgThOd8=',\n",
       "   'x-amz-request-id': 'E3M2GSFBBCZ5FR1P',\n",
       "   'date': 'Sun, 24 Oct 2021 21:31:13 GMT',\n",
       "   'server': 'AmazonS3',\n",
       "   'content-length': '0'},\n",
       "  'RetryAttempts': 0}}"
      ]
     },
     "execution_count": 32,
     "metadata": {},
     "output_type": "execute_result"
    }
   ],
   "source": [
    "body = open('exp1.csv', 'rb')\n",
    "\n",
    "o = s3.Object('datacont-kem254', 'exp1').put(Body=body )\n",
    "s3.Object('datacont-kem254', 'exp1').Acl().put(ACL='public-read')"
   ]
  },
  {
   "cell_type": "markdown",
   "id": "03a19d2f-100f-4327-a8cb-130d49e1cf60",
   "metadata": {},
   "source": [
    "body = open('/home/kylemaxwell/KEM254_NoSQL/exp1.csv', 'rb')\n",
    "\n",
    "o = s3.Object('datacont-kem254', 'main').put(Body=body )\n",
    "s3.Object('datacont-kem254', 'main').Acl().put(ACL='public-read')"
   ]
  },
  {
   "cell_type": "code",
   "execution_count": 33,
   "id": "5922814c-dd53-4e38-9de3-d95649fafe54",
   "metadata": {},
   "outputs": [
    {
     "data": {
      "text/plain": [
       "{'ResponseMetadata': {'RequestId': 'DQFGTSN8EG8X0XBX',\n",
       "  'HostId': 'f82i1a8PNRStou8wWFR8Tttbj+PwW+pGNh1wGL7VdoxAogj1VNoFTkTfI13MiAYg9XWUQOo2cFM=',\n",
       "  'HTTPStatusCode': 200,\n",
       "  'HTTPHeaders': {'x-amz-id-2': 'f82i1a8PNRStou8wWFR8Tttbj+PwW+pGNh1wGL7VdoxAogj1VNoFTkTfI13MiAYg9XWUQOo2cFM=',\n",
       "   'x-amz-request-id': 'DQFGTSN8EG8X0XBX',\n",
       "   'date': 'Sun, 24 Oct 2021 21:31:14 GMT',\n",
       "   'server': 'AmazonS3',\n",
       "   'content-length': '0'},\n",
       "  'RetryAttempts': 0}}"
      ]
     },
     "execution_count": 33,
     "metadata": {},
     "output_type": "execute_result"
    }
   ],
   "source": [
    "body = open('exp2.csv', 'rb')\n",
    "\n",
    "o = s3.Object('datacont-kem254', 'exp2').put(Body=body )\n",
    "s3.Object('datacont-kem254', 'exp2').Acl().put(ACL='public-read')"
   ]
  },
  {
   "cell_type": "code",
   "execution_count": 34,
   "id": "20026afc-842f-4e79-a2db-c67e8d3694fe",
   "metadata": {},
   "outputs": [
    {
     "data": {
      "text/plain": [
       "{'ResponseMetadata': {'RequestId': 'DQFRVE1KN9HX1RKX',\n",
       "  'HostId': 'CweeLFvY0N+bbXEan84IhhvORk+rmD2e0yUZ1+QV/pfSNp87TC+b4iPeMdcjCQMNT4tV/BsNR/Q=',\n",
       "  'HTTPStatusCode': 200,\n",
       "  'HTTPHeaders': {'x-amz-id-2': 'CweeLFvY0N+bbXEan84IhhvORk+rmD2e0yUZ1+QV/pfSNp87TC+b4iPeMdcjCQMNT4tV/BsNR/Q=',\n",
       "   'x-amz-request-id': 'DQFRVE1KN9HX1RKX',\n",
       "   'date': 'Sun, 24 Oct 2021 21:31:14 GMT',\n",
       "   'server': 'AmazonS3',\n",
       "   'content-length': '0'},\n",
       "  'RetryAttempts': 0}}"
      ]
     },
     "execution_count": 34,
     "metadata": {},
     "output_type": "execute_result"
    }
   ],
   "source": [
    "body = open('exp3.csv', 'rb')\n",
    "\n",
    "o = s3.Object('datacont-kem254', 'exp3').put(Body=body )\n",
    "s3.Object('datacont-kem254', 'exp3').Acl().put(ACL='public-read')"
   ]
  },
  {
   "cell_type": "code",
   "execution_count": 35,
   "id": "f73b5e79-bfec-4475-b3ba-9858cb6a5115",
   "metadata": {},
   "outputs": [
    {
     "data": {
      "text/plain": [
       "{'ResponseMetadata': {'RequestId': '4N4M83NXZ8JWGX07',\n",
       "  'HostId': 'g7qvi0U4xeH4Xkbeg930iIGLPFXbJjjbZz0H2SrgXO0DiFE0R5FSaD563BLyVedE2qIXh6r8kSI=',\n",
       "  'HTTPStatusCode': 200,\n",
       "  'HTTPHeaders': {'x-amz-id-2': 'g7qvi0U4xeH4Xkbeg930iIGLPFXbJjjbZz0H2SrgXO0DiFE0R5FSaD563BLyVedE2qIXh6r8kSI=',\n",
       "   'x-amz-request-id': '4N4M83NXZ8JWGX07',\n",
       "   'date': 'Sun, 24 Oct 2021 21:31:15 GMT',\n",
       "   'server': 'AmazonS3',\n",
       "   'content-length': '0'},\n",
       "  'RetryAttempts': 0}}"
      ]
     },
     "execution_count": 35,
     "metadata": {},
     "output_type": "execute_result"
    }
   ],
   "source": [
    "body = open('experiments.csv', 'rb')\n",
    "\n",
    "o = s3.Object('datacont-kem254', 'experiments').put(Body=body )\n",
    "s3.Object('datacont-kem254', 'experiments').Acl().put(ACL='public-read')"
   ]
  },
  {
   "cell_type": "code",
   "execution_count": 36,
   "id": "3bf5968b-193d-4fc5-8f9a-f955ee960f10",
   "metadata": {},
   "outputs": [],
   "source": [
    "dyndb = boto3.resource('dynamodb',\n",
    " region_name='us-west-2',\n",
    " aws_access_key_id='hidden',\n",
    " aws_secret_access_key='hidden'\n",
    ")"
   ]
  },
  {
   "cell_type": "code",
   "execution_count": 37,
   "id": "faa2a637-e613-4584-b63a-b32b5359252f",
   "metadata": {},
   "outputs": [
    {
     "name": "stdout",
     "output_type": "stream",
     "text": [
      "An error occurred (ResourceInUseException) when calling the CreateTable operation: Table already exists: DataTable\n"
     ]
    }
   ],
   "source": [
    "try:\n",
    " table = dyndb.create_table(\n",
    " TableName='DataTable',\n",
    " KeySchema=[\n",
    " {\n",
    " 'AttributeName': 'PartitionKey',\n",
    " 'KeyType': 'HASH'\n",
    " },\n",
    " {\n",
    " 'AttributeName': 'RowKey',\n",
    " 'KeyType': 'RANGE'\n",
    " }\n",
    " ],\n",
    " AttributeDefinitions=[\n",
    " {\n",
    " 'AttributeName': 'PartitionKey',\n",
    " 'AttributeType': 'S'\n",
    " },\n",
    " {\n",
    " 'AttributeName': 'RowKey',\n",
    " 'AttributeType': 'S'\n",
    " },\n",
    " ],\n",
    " ProvisionedThroughput={\n",
    " 'ReadCapacityUnits': 5,\n",
    " 'WriteCapacityUnits': 5\n",
    " }\n",
    " )\n",
    "except Exception as e:\n",
    " print (e)\n",
    " #if there is an exception, the table may already exist. if so...\n",
    " table = dyndb.Table(\"DataTable\")"
   ]
  },
  {
   "cell_type": "code",
   "execution_count": 38,
   "id": "f6209cd5-400b-4e5b-a1a9-66c5340ea561",
   "metadata": {},
   "outputs": [],
   "source": [
    "table.meta.client.get_waiter('table_exists').wait(TableName='DataTable')"
   ]
  },
  {
   "cell_type": "code",
   "execution_count": 39,
   "id": "134a6357-0fd5-42b1-a6a0-38019c705167",
   "metadata": {},
   "outputs": [
    {
     "name": "stdout",
     "output_type": "stream",
     "text": [
      "6\n"
     ]
    }
   ],
   "source": [
    "print(table.item_count)"
   ]
  },
  {
   "cell_type": "code",
   "execution_count": 40,
   "id": "0c775a61-af20-41c9-b1b0-dba7187f92af",
   "metadata": {},
   "outputs": [],
   "source": [
    "import csv"
   ]
  },
  {
   "cell_type": "code",
   "execution_count": 41,
   "id": "31f92553-2d2b-4e2e-8734-a62697b4daa2",
   "metadata": {},
   "outputs": [
    {
     "name": "stdout",
     "output_type": "stream",
     "text": [
      "['1', '-1', '52', '3.4', 'exp1.csv']\n",
      "1\n",
      "['2', '-2', '52.1', '3.4', 'exp2.csv']\n",
      "2\n",
      "['3', '-2.93', '57.1', '3.7', 'exp3.csv']\n",
      "3\n"
     ]
    }
   ],
   "source": [
    "with open('experiments.csv', 'r') as csvfile:\n",
    "     csvf = csv.reader(csvfile, delimiter=',', quotechar='|')\n",
    "     next(csvf)\n",
    "     for item in csvf:\n",
    "         print(item)\n",
    "         print(item[0])\n",
    "         body = open(item[4], 'rb')\n",
    "         s3.Object('datacont-kem254', item[4]).put(Body=body )\n",
    "         md = s3.Object('datacont-kem254', item[4]).Acl().put(ACL='public-read')\n",
    "\n",
    "         url = \" https://s3-us-west-2.amazonaws.com/datacont-kem254/\"+item[4]\n",
    "         metadata_item = {'PartitionKey': item[0], 'RowKey': item[1],\n",
    "         'description' : item[4], 'date' : item[2], 'url':url}\n",
    "         try:\n",
    "             table.put_item(Item=metadata_item)\n",
    "         except:\n",
    "             print(\"item may already be there or another failure\")"
   ]
  },
  {
   "cell_type": "code",
   "execution_count": 42,
   "id": "065a6c09-3f04-4efb-84fe-1923155cbe71",
   "metadata": {},
   "outputs": [
    {
     "name": "stdout",
     "output_type": "stream",
     "text": [
      "{'PartitionKey': 'exp3.csv', 'RowKey': '3', 'date': '57.1', 'description': 'exp3.csv', 'url': ' https://s3-us-west-2.amazonaws.com/datacont-kem254/exp3.csv'}\n"
     ]
    }
   ],
   "source": [
    "response = table.get_item(\n",
    " Key={\n",
    " 'PartitionKey': 'exp3.csv',\n",
    " 'RowKey': '3'\n",
    " }\n",
    ")\n",
    "item = response['Item']\n",
    "\n",
    "\n",
    "print(item)"
   ]
  },
  {
   "cell_type": "code",
   "execution_count": null,
   "id": "9085923c-19d0-4e2f-988e-90e4943380d4",
   "metadata": {},
   "outputs": [],
   "source": []
  }
 ],
 "metadata": {
  "interpreter": {
   "hash": "31f2aee4e71d21fbe5cf8b01ff0e069b9275f58929596ceb00d14d90e3e16cd6"
  },
  "kernelspec": {
   "display_name": "Python 3.8.10 64-bit",
   "name": "python3"
  },
  "language_info": {
   "codemirror_mode": {
    "name": "ipython",
    "version": 3
   },
   "file_extension": ".py",
   "mimetype": "text/x-python",
   "name": "python",
   "nbconvert_exporter": "python",
   "pygments_lexer": "ipython3",
   "version": "3.8.10"
  }
 },
 "nbformat": 4,
 "nbformat_minor": 5
}
